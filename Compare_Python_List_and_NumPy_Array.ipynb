{
  "nbformat": 4,
  "nbformat_minor": 0,
  "metadata": {
    "colab": {
      "provenance": [],
      "authorship_tag": "ABX9TyM1EwS7kdVnZxUs+YBLE6HZ",
      "include_colab_link": true
    },
    "kernelspec": {
      "name": "python3",
      "display_name": "Python 3"
    },
    "language_info": {
      "name": "python"
    }
  },
  "cells": [
    {
      "cell_type": "markdown",
      "metadata": {
        "id": "view-in-github",
        "colab_type": "text"
      },
      "source": [
        "<a href=\"https://colab.research.google.com/github/NadineJackson1/NumPy-Ai-Planet/blob/main/Compare_Python_List_and_NumPy_Array.ipynb\" target=\"_parent\"><img src=\"https://colab.research.google.com/assets/colab-badge.svg\" alt=\"Open In Colab\"/></a>"
      ]
    },
    {
      "cell_type": "code",
      "execution_count": 8,
      "metadata": {
        "colab": {
          "base_uri": "https://localhost:8080/"
        },
        "id": "TAImdQ8jGXRm",
        "outputId": "adc2c7d6-4575-436c-d3bd-0dd1952befd1"
      },
      "outputs": [
        {
          "output_type": "stream",
          "name": "stdout",
          "text": [
            "Pure python version: 19.80961538400004\n",
            "Numpy version: 0.09372109399998863\n"
          ]
        }
      ],
      "source": [
        "# Create two python list say 'List_x' and 'List_y'\n",
        "X_list = list(range(100000))\n",
        "Y_list = list(range(100000))\n",
        "\n",
        "# Import numpy Library\n",
        "import numpy as np\n",
        "# Create two numpy array (say 'X' end 'Y') using above two lists\n",
        "X = np.array(X_list)\n",
        "Y = np.array(Y_list)\n",
        "\n",
        "def pure_python_version():\n",
        "  Z= []\n",
        "  for i in range(len(X_list)):\n",
        "    Z.append(X_list[i] + Y_list[i])\n",
        "\n",
        "# Define a function to calculate sum\n",
        "# using numpy arrays (X, Y)\n",
        "def numpy_version():\n",
        "\n",
        "# In numpy we can directly perform\n",
        "# Sum element-wise as\n",
        "  Z = X + Y\n",
        "\n",
        "# Import Timer class from timeit Library\n",
        "from timeit import Timer\n",
        "\n",
        "timer_obj1 = Timer(\"pure_python_version()\", \n",
        "                   \"from __main__ import pure_python_version\")\n",
        "timer_obj2 = Timer(\"numpy_version()\", \n",
        "                   \"from __main__ import numpy_version\")\n",
        "\n",
        "print(\"Pure python version:\",timer_obj1.timeit(1000))\n",
        "print(\"Numpy version:\",timer_obj2.timeit(1000))\n",
        "\n"
      ]
    },
    {
      "cell_type": "code",
      "source": [
        "python_list = [2, 4, 6, 8, 10]\n",
        "\n",
        "python_list"
      ],
      "metadata": {
        "colab": {
          "base_uri": "https://localhost:8080/"
        },
        "id": "h8JgUS6aJ69L",
        "outputId": "d901933c-c652-4333-c9f8-bbf0ad7654d2"
      },
      "execution_count": 9,
      "outputs": [
        {
          "output_type": "execute_result",
          "data": {
            "text/plain": [
              "[2, 4, 6, 8, 10]"
            ]
          },
          "metadata": {},
          "execution_count": 9
        }
      ]
    },
    {
      "cell_type": "code",
      "source": [
        "numpy_array1 = np.array (python_list)\n",
        "\n",
        "numpy_array1"
      ],
      "metadata": {
        "colab": {
          "base_uri": "https://localhost:8080/"
        },
        "id": "Ef2oBxPBKcRv",
        "outputId": "88828e91-3499-4b6b-db61-02083fa64699"
      },
      "execution_count": 10,
      "outputs": [
        {
          "output_type": "execute_result",
          "data": {
            "text/plain": [
              "array([ 2,  4,  6,  8, 10])"
            ]
          },
          "metadata": {},
          "execution_count": 10
        }
      ]
    }
  ]
}